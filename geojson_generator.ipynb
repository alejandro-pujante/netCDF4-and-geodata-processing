{
 "cells": [
  {
   "cell_type": "markdown",
   "id": "9b22361d",
   "metadata": {},
   "source": [
    "### Generador de archivos json con un dominio mediante celdillas para ejecutar el modelo CHIMERE"
   ]
  },
  {
   "cell_type": "code",
   "execution_count": 13,
   "id": "524c8306-e648-471c-b7ec-e16eee4a7af4",
   "metadata": {},
   "outputs": [],
   "source": [
    "import geopandas as gpd\n",
    "from shapely.geometry import Polygon\n",
    "import numpy as np\n",
    "import json"
   ]
  },
  {
   "cell_type": "markdown",
   "id": "8f88e4c4",
   "metadata": {},
   "source": [
    "### Le introducimos datos de anchura y altura de la celdilla y crea el dominio (esto se puede modificar para que sea en km)"
   ]
  },
  {
   "cell_type": "code",
   "execution_count": 8,
   "id": "513b0aa3-5a65-4e62-8923-5a65130e568d",
   "metadata": {},
   "outputs": [],
   "source": [
    "length = 0.05\n",
    "wide = 0.05\n",
    "\n",
    "cols = list(np.arange( -2.5 , -0.6 + wide, wide))\n",
    "rows = list(np.arange( 37.3 , 38.8 + length, length))\n",
    "\n",
    "polygons = []\n",
    "\n",
    "for x in cols[:-1]:               # OJO, SI EMPIEZA EL BUCLE EN X, LOS ID VAN DE ABAJO A ARRIBA\n",
    "    for y in rows[:-1]:\n",
    "        polygons.append(Polygon([(x,y), (x+wide, y), (x+wide, y+length), (x, y+length)]))\n",
    "        \n",
    "grid = gpd.GeoDataFrame({'geometry':polygons})\n",
    "\n",
    "grid['id'] = np.arange(0, len(grid.geometry) ,1)"
   ]
  },
  {
   "cell_type": "code",
   "execution_count": 3,
   "id": "912e35f3-a6cf-4eff-9842-ab22178552ad",
   "metadata": {},
   "outputs": [],
   "source": [
    "grid.to_file('NEW_DOMINIO.geojson', driver = 'GeoJSON')"
   ]
  },
  {
   "cell_type": "code",
   "execution_count": 11,
   "id": "14290133-628b-4d06-9250-9d4a87814241",
   "metadata": {},
   "outputs": [],
   "source": [
    "grid.to_file('dominio_trayectorias.json')"
   ]
  },
  {
   "cell_type": "code",
   "execution_count": 22,
   "id": "6b869608-cfd3-4ac8-9e9a-580592caa4b8",
   "metadata": {},
   "outputs": [],
   "source": [
    "with open('dominio_trayectorias.json', 'r') as g:\n",
    "  murcia_geojson = json.load(g)\n",
    "\n",
    "with open('minas_v2.json', 'r') as f:\n",
    "  price_geojson = json.load(f)"
   ]
  },
  {
   "cell_type": "code",
   "execution_count": 37,
   "id": "69e2430f-6485-4cf1-ada3-e3d2b7a429ff",
   "metadata": {},
   "outputs": [],
   "source": [
    "for i in range(1140):\n",
    "    murcia_geojson['features'][i]['id'] = murcia_geojson['features'][i]['properties']['id']"
   ]
  },
  {
   "cell_type": "code",
   "execution_count": 44,
   "id": "5839386a-3f59-4b79-9322-083fde4278fe",
   "metadata": {},
   "outputs": [
    {
     "data": {
      "text/plain": [
       "{'type': 'Feature',\n",
       " 'properties': {'id': 0},\n",
       " 'geometry': {'type': 'Polygon',\n",
       "  'coordinates': [[[-2.5, 37.3],\n",
       "    [-2.45, 37.3],\n",
       "    [-2.45, 37.35],\n",
       "    [-2.5, 37.35],\n",
       "    [-2.5, 37.3]]]},\n",
       " 'id': 0}"
      ]
     },
     "execution_count": 44,
     "metadata": {},
     "output_type": "execute_result"
    }
   ],
   "source": [
    "murcia_geojson['features'][0]"
   ]
  },
  {
   "cell_type": "code",
   "execution_count": 40,
   "id": "cbaeac37-a3a7-4de4-aec7-073ef2cc444f",
   "metadata": {},
   "outputs": [
    {
     "data": {
      "text/plain": [
       "{'geometry': {'type': 'Polygon',\n",
       "  'coordinates': [[[-2.078290283203125, 37.330037506103515],\n",
       "    [-1.963971435546875, 37.34552517700195],\n",
       "    [-1.9834111328125, 37.436440856933594],\n",
       "    [-2.097882568359375, 37.420918853759765],\n",
       "    [-2.078290283203125, 37.330037506103515]]]},\n",
       " 'id': 0,\n",
       " 'properties': {'id': 0,\n",
       "  'stroke': '#fd675c',\n",
       "  'stroke-width': 2,\n",
       "  'stroke-opacity': 1,\n",
       "  'fill': '#555555',\n",
       "  'fill-opacity': 0.5},\n",
       " 'type': 'Feature'}"
      ]
     },
     "execution_count": 40,
     "metadata": {},
     "output_type": "execute_result"
    }
   ],
   "source": [
    "price_geojson['features'][0]"
   ]
  }
 ],
 "metadata": {
  "kernelspec": {
   "display_name": "Python 3",
   "language": "python",
   "name": "python3"
  },
  "language_info": {
   "codemirror_mode": {
    "name": "ipython",
    "version": 3
   },
   "file_extension": ".py",
   "mimetype": "text/x-python",
   "name": "python",
   "nbconvert_exporter": "python",
   "pygments_lexer": "ipython3",
   "version": "3.8.8"
  }
 },
 "nbformat": 4,
 "nbformat_minor": 5
}
