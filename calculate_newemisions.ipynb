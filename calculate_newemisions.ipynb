{
 "cells": [
  {
   "cell_type": "markdown",
   "id": "2d361d60",
   "metadata": {},
   "source": [
    "### Programa para calcular el área de intersección entre diferentes polígonos provenientes de un archivo geojson"
   ]
  },
  {
   "cell_type": "code",
   "execution_count": 1,
   "id": "5a5ab2d8-d625-45ec-b871-a20fe2967c94",
   "metadata": {},
   "outputs": [],
   "source": [
    "import shapely\n",
    "import geopandas as gp\n",
    "import numpy as np\n",
    "import matplotlib.pyplot as plt\n",
    "import pandas as pd"
   ]
  },
  {
   "cell_type": "code",
   "execution_count": 2,
   "id": "7b771b17-bb34-4e17-8254-d6bfb84b8eb6",
   "metadata": {},
   "outputs": [],
   "source": [
    "data1 = gp.read_file('minas_v2.geojson')\n",
    "\n",
    "data2 = gp.read_file('Data/municipios_minas-Copy1.zip')\n",
    "\n",
    "data1 = data1.to_crs(6933)\n",
    "data2 = data2.to_crs(6933)"
   ]
  },
  {
   "cell_type": "markdown",
   "id": "12080c04",
   "metadata": {},
   "source": [
    "#### Filtrado de datos por sustancia"
   ]
  },
  {
   "cell_type": "code",
   "execution_count": 3,
   "id": "b4caf925-ec78-4622-b9c5-b52d191787fd",
   "metadata": {},
   "outputs": [],
   "source": [
    "data2 = data2[data2.geometry != None]\n",
    "\n",
    "mask0 = data2['Sustancia'] == 'Hierro'\n",
    "mask1 = data2['Sustancia'] == 'Plomo'\n",
    "mask2 = data2['Sustancia'] == 'Cobre'\n",
    "mask3 = data2['Sustancia'] == 'Blenda'\n",
    "mask4 = data2['Sustancia'] == 'Porfidos'\n",
    "mask5 = data2['Sustancia'] == 'Zinc'\n",
    "mask6 = data2['Sustancia'] == 'Barita'\n",
    "mask7 = data2['Sustancia'] == 'Alumbre'\n",
    "mask8 = data2['Sustancia'] == 'Silice'\n",
    "\n",
    "data2 = data2[(mask0) | (mask1) | (mask2) | (mask3) | (mask4)| (mask5) | (mask6) | (mask7) | (mask8)]\n",
    "\n",
    "data2 = data2.drop('Empresa' , axis = 1)\n",
    "data2 = data2.drop('Nombre' , axis = 1)\n",
    "data2 = data2.drop('Organismo' , axis = 1)\n",
    "data2 = data2.drop('Sit. Gral' , axis = 1)\n",
    "data2 = data2.drop('Tipo' , axis = 1)\n",
    "data2 = data2.drop('N Registro' , axis = 1)\n",
    "data2 = data2.drop('Fraccion' , axis = 1)\n",
    "data2 = data2.drop('Superficie' , axis = 1)\n",
    "data2 = data2.drop('Uds' , axis = 1)\n",
    "data2 = data2.drop('Seccion' , axis = 1)\n",
    "\n",
    "data2.index = np.arange(0 , len(data2.Sustancia),1)\n",
    "data2['id'] = np.arange(1000,1081,1)"
   ]
  },
  {
   "cell_type": "markdown",
   "id": "cd1cb716",
   "metadata": {},
   "source": [
    "#### Algoritmo para calcular la intersección del área de cada mina en cada una de las celdillas del dominio"
   ]
  },
  {
   "cell_type": "code",
   "execution_count": 5,
   "id": "1dc5ce2a-d5aa-490a-b610-03b8589b55aa",
   "metadata": {},
   "outputs": [],
   "source": [
    "mina = []\n",
    "celdilla = []\n",
    "\n",
    "for i in range(len(data2.geometry)):\n",
    "    for j in range(len(data1.geometry)):\n",
    "        area = data2.geometry[i].intersection(data1.geometry[j]).area\n",
    "        if area != 0:\n",
    "            mina.append(data2.id[i])\n",
    "            celdilla.append(data1.id[j])"
   ]
  },
  {
   "cell_type": "code",
   "execution_count": 7,
   "id": "ce418604-bf0c-42f3-b72b-7069eb2c2121",
   "metadata": {},
   "outputs": [],
   "source": [
    "inter = pd.DataFrame()\n",
    "\n",
    "inter['mina'] = mina\n",
    "inter['celdilla'] = celdilla\n",
    "inter['area'] = area"
   ]
  },
  {
   "cell_type": "code",
   "execution_count": 24,
   "id": "68a5fe55-9e16-496d-b129-343ffe3f2a2e",
   "metadata": {},
   "outputs": [
    {
     "data": {
      "text/plain": [
       "0.6246828800204095"
      ]
     },
     "execution_count": 24,
     "metadata": {},
     "output_type": "execute_result"
    }
   ],
   "source": [
    "p = 65\n",
    "\n",
    "cel = inter[inter.celdilla == p]\n",
    "\n",
    "(sum(cel.area) / data1.area[p])*100"
   ]
  }
 ],
 "metadata": {
  "kernelspec": {
   "display_name": "Python 3",
   "language": "python",
   "name": "python3"
  },
  "language_info": {
   "codemirror_mode": {
    "name": "ipython",
    "version": 3
   },
   "file_extension": ".py",
   "mimetype": "text/x-python",
   "name": "python",
   "nbconvert_exporter": "python",
   "pygments_lexer": "ipython3",
   "version": "3.8.8"
  }
 },
 "nbformat": 4,
 "nbformat_minor": 5
}
